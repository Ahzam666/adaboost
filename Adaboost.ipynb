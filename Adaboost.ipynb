{
 "cells": [
  {
   "cell_type": "code",
   "execution_count": 17,
   "id": "df5dd4ec",
   "metadata": {},
   "outputs": [
    {
     "name": "stdout",
     "output_type": "stream",
     "text": [
      "[[ 4.16000000e+02  1.55589663e+00 -4.36390976e-01 ... -5.52460572e-01\n",
      "  -6.17143839e-01  1.00000000e+00]\n",
      " [ 5.51000000e+02 -9.73754083e-01 -3.39964170e-01 ... -1.74507042e-01\n",
      "  -1.47389742e-01  1.00000000e+00]\n",
      " [ 2.80000000e+02  8.15511052e-01 -4.04248708e-01 ... -1.74507042e-01\n",
      "   1.65779655e-01  1.00000000e+00]\n",
      " ...\n",
      " [ 5.59000000e+02 -1.15885048e+00  6.34562775e+00 ... -6.78445082e-01\n",
      "  -1.40006733e+00  1.00000000e+00]\n",
      " [ 5.35000000e+02  9.38908648e-01  2.61712456e+00 ... -1.43435214e+00\n",
      "  -1.71323673e+00  1.00000000e+00]\n",
      " [ 2.49000000e+02 -7.26958892e-01 -3.39964170e-01 ... -1.74507042e-01\n",
      "  -7.73728537e-01  1.00000000e+00]]\n"
     ]
    },
    {
     "name": "stderr",
     "output_type": "stream",
     "text": [
      "D:\\anaconda\\Lib\\site-packages\\sklearn\\ensemble\\_base.py:156: FutureWarning: `base_estimator` was renamed to `estimator` in version 1.2 and will be removed in 1.4.\n",
      "  warnings.warn(\n"
     ]
    },
    {
     "name": "stdout",
     "output_type": "stream",
     "text": [
      "ROC AUC score: 0.73\n"
     ]
    }
   ],
   "source": [
    "import pandas as pd\n",
    "import numpy as np\n",
    "df = pd.read_csv('indian_liver_patient_preprocessed.csv')\n",
    "X = df.drop('Liver_disease',axis = 1).values\n",
    "y = df['Liver_disease'].values\n",
    "#print(df)\n",
    "from sklearn.model_selection import train_test_split\n",
    "X_train,X_test,y_train,y_test = train_test_split(X,y,stratify = y, test_size = 0.3,random_state = 8)\n",
    "# Import DecisionTreeClassifier\n",
    "print(X_train)\n",
    "from sklearn.tree import DecisionTreeClassifier\n",
    "\n",
    "# Import AdaBoostClassifier\n",
    "from sklearn.ensemble import AdaBoostClassifier\n",
    "\n",
    "# Instantiate dt\n",
    "dt = DecisionTreeClassifier(max_depth=2, random_state=1)\n",
    "\n",
    "# Instantiate ada\n",
    "ada = AdaBoostClassifier(base_estimator=dt, n_estimators=180, random_state=1)\n",
    "# Fit ada to the training set\n",
    "ada.fit(X_train,y_train)\n",
    "\n",
    "# Compute the probabilities of obtaining the positive class\n",
    "y_pred_proba = ada.predict_proba(X_test)[:,1]\n",
    "# Import roc_auc_score\n",
    "from sklearn.metrics import roc_auc_score\n",
    "\n",
    "# Evaluate test-set roc_auc_score\n",
    "ada_roc_auc = roc_auc_score(y_test, y_pred_proba)\n",
    "\n",
    "# Print roc_auc_score\n",
    "print('ROC AUC score: {:.2f}'.format(ada_roc_auc))\n"
   ]
  }
 ],
 "metadata": {
  "kernelspec": {
   "display_name": "Python 3 (ipykernel)",
   "language": "python",
   "name": "python3"
  },
  "language_info": {
   "codemirror_mode": {
    "name": "ipython",
    "version": 3
   },
   "file_extension": ".py",
   "mimetype": "text/x-python",
   "name": "python",
   "nbconvert_exporter": "python",
   "pygments_lexer": "ipython3",
   "version": "3.11.4"
  }
 },
 "nbformat": 4,
 "nbformat_minor": 5
}
